{
 "cells": [
  {
   "cell_type": "code",
   "execution_count": 1,
   "id": "7ca1f168",
   "metadata": {},
   "outputs": [],
   "source": [
    "import numpy as np\n",
    "import pandas as pd\n",
    "import tensorflow as tf\n",
    "from tensorflow import keras\n",
    "from sklearn.model_selection import train_test_split\n",
    "from sklearn.preprocessing import MinMaxScaler\n",
    "from tensorflow.keras import layers\n",
    "\n",
    "from datetime import datetime, timedelta\n",
    "from sklearn.metrics import r2_score, mean_squared_error\n",
    "import matplotlib.pyplot as plt"
   ]
  },
  {
   "cell_type": "code",
   "execution_count": 2,
   "id": "dfcfd79e",
   "metadata": {},
   "outputs": [
    {
     "name": "stderr",
     "output_type": "stream",
     "text": [
      "C:\\Users\\bansa\\AppData\\Local\\Temp\\ipykernel_9784\\125678437.py:1: DtypeWarning: Columns (9,11,13,15,17,29) have mixed types. Specify dtype option on import or set low_memory=False.\n",
      "  dfd = pd.read_csv('daily_weather_data_v6.csv')\n"
     ]
    }
   ],
   "source": [
    "dfd = pd.read_csv('daily_weather_data_v6.csv')\n",
    "dfc = dfd[dfd['Station Name']=='COMOX A'].sort_values(by='Date/Time')\\\n",
    "        [['Station Name', 'Date/Time', 'Max Temp (°C)', 'Min Temp (°C)', 'Mean Temp (°C)',\n",
    "          'Total Rain (mm)', 'Total Snow (cm)', 'Total Precip (mm)']].copy()"
   ]
  },
  {
   "cell_type": "code",
   "execution_count": 4,
   "id": "77718fff",
   "metadata": {},
   "outputs": [
    {
     "name": "stderr",
     "output_type": "stream",
     "text": [
      "C:\\Users\\bansa\\AppData\\Local\\Temp\\ipykernel_9784\\2546309725.py:1: DtypeWarning: Columns (11,15,17,19,31) have mixed types. Specify dtype option on import or set low_memory=False.\n",
      "  dfc = pd.read_csv('data/Daily_COMOX A_155.csv')[['Station Name', 'Date/Time', 'Max Temp (°C)', 'Min Temp (°C)', 'Mean Temp (°C)',\n"
     ]
    }
   ],
   "source": [
    "dfc = pd.read_csv('data/Daily_COMOX A_155.csv')[['Station Name', 'Date/Time', 'Max Temp (°C)', 'Min Temp (°C)', 'Mean Temp (°C)',\n",
    "          'Total Rain (mm)', 'Total Snow (cm)', 'Total Precip (mm)']]"
   ]
  },
  {
   "cell_type": "code",
   "execution_count": 5,
   "id": "e000b27b",
   "metadata": {},
   "outputs": [
    {
     "name": "stderr",
     "output_type": "stream",
     "text": [
      "C:\\Users\\bansa\\AppData\\Local\\Temp\\ipykernel_9784\\4134861027.py:1: DtypeWarning: Columns (11,13,15,19,21,25,29) have mixed types. Specify dtype option on import or set low_memory=False.\n",
      "  dfh = pd.read_csv('comox_hour.csv')\n"
     ]
    }
   ],
   "source": [
    "dfh = pd.read_csv('comox_hour.csv')"
   ]
  },
  {
   "cell_type": "code",
   "execution_count": 6,
   "id": "7073242d",
   "metadata": {},
   "outputs": [
    {
     "data": {
      "text/plain": [
       "29"
      ]
     },
     "execution_count": 6,
     "metadata": {},
     "output_type": "execute_result"
    }
   ],
   "source": [
    "len(pd.date_range(start = dfc['Date/Time'].min(), end = dfc['Date/Time'].max()).difference(dfc['Date/Time']))"
   ]
  },
  {
   "cell_type": "code",
   "execution_count": 7,
   "id": "91013d5b",
   "metadata": {},
   "outputs": [
    {
     "data": {
      "text/plain": [
       "0"
      ]
     },
     "execution_count": 7,
     "metadata": {},
     "output_type": "execute_result"
    }
   ],
   "source": [
    "len(pd.date_range(start = dfh['Date/Time (LST)'].min(), end = dfh['Date/Time (LST)'].max()).difference(dfh['Date/Time (LST)']))"
   ]
  },
  {
   "cell_type": "code",
   "execution_count": null,
   "id": "ba3af06f",
   "metadata": {},
   "outputs": [],
   "source": []
  },
  {
   "cell_type": "markdown",
   "id": "da32805a",
   "metadata": {},
   "source": [
    "### Daily data for Temp and Wind"
   ]
  },
  {
   "cell_type": "code",
   "execution_count": 8,
   "id": "5c9b3715",
   "metadata": {},
   "outputs": [
    {
     "data": {
      "text/plain": [
       "Index(['Station Name', 'Date/Time', 'Max Temp (°C)', 'Min Temp (°C)',\n",
       "       'Mean Temp (°C)', 'Total Rain (mm)', 'Total Snow (cm)',\n",
       "       'Total Precip (mm)'],\n",
       "      dtype='object')"
      ]
     },
     "execution_count": 8,
     "metadata": {},
     "output_type": "execute_result"
    }
   ],
   "source": [
    "dfc.columns"
   ]
  },
  {
   "cell_type": "code",
   "execution_count": 9,
   "id": "42b0b8c7",
   "metadata": {},
   "outputs": [
    {
     "data": {
      "text/plain": [
       "Station Name         0.000000\n",
       "Date/Time            0.000000\n",
       "Max Temp (°C)        0.000000\n",
       "Min Temp (°C)        0.000000\n",
       "Mean Temp (°C)       0.000000\n",
       "Total Rain (mm)      0.000000\n",
       "Total Snow (cm)      0.000321\n",
       "Total Precip (mm)    0.000000\n",
       "dtype: float64"
      ]
     },
     "execution_count": 9,
     "metadata": {},
     "output_type": "execute_result"
    }
   ],
   "source": [
    "dfc.isnull().sum()*100/dfh.shape[0]"
   ]
  },
  {
   "cell_type": "code",
   "execution_count": 10,
   "id": "405870d0",
   "metadata": {},
   "outputs": [
    {
     "data": {
      "text/plain": [
       "'2023-11-18'"
      ]
     },
     "execution_count": 10,
     "metadata": {},
     "output_type": "execute_result"
    }
   ],
   "source": [
    "max(dfc['Date/Time'])"
   ]
  },
  {
   "cell_type": "code",
   "execution_count": 12,
   "id": "907cc98a",
   "metadata": {},
   "outputs": [],
   "source": [
    "dfs = dfc.copy()\n",
    "missing_dates = pd.Series(pd.date_range(start = dfs['Date/Time'].min(), end = dfs['Date/Time'].max()).difference(dfs['Date/Time'])).astype(str)\n",
    "dfs = pd.concat([dfs, pd.DataFrame({'Date/Time': missing_dates})])\n",
    "dfs['Date/Time'] = pd.to_datetime(dfs['Date/Time'])\n",
    "dfs.sort_values('Date/Time', inplace=True)\n",
    "data = dfs.interpolate('ffill')"
   ]
  },
  {
   "cell_type": "code",
   "execution_count": 13,
   "id": "920e2daf",
   "metadata": {},
   "outputs": [
    {
     "data": {
      "text/plain": [
       "Index(['Station Name', 'Date/Time', 'Max Temp (°C)', 'Min Temp (°C)',\n",
       "       'Mean Temp (°C)', 'Total Rain (mm)', 'Total Snow (cm)',\n",
       "       'Total Precip (mm)'],\n",
       "      dtype='object')"
      ]
     },
     "execution_count": 13,
     "metadata": {},
     "output_type": "execute_result"
    }
   ],
   "source": [
    "data.columns"
   ]
  },
  {
   "cell_type": "code",
   "execution_count": 14,
   "id": "06fe5be9",
   "metadata": {},
   "outputs": [],
   "source": [
    "target = ['Mean Temp (°C)']\n",
    "\n",
    "sequence_length = 365\n",
    "\n",
    "data_sequences = []\n",
    "target_data = []\n",
    "\n",
    "for i in range(len(data) - sequence_length):\n",
    "    data_sequences.append(data[target].values[i:i+sequence_length])\n",
    "    target_data.append(data[target].values[i+sequence_length])\n",
    "\n",
    "data_sequences = np.array(data_sequences)\n",
    "target_data = np.array(target_data)\n",
    "\n",
    "X_train, X_test, y_train, y_test = train_test_split(data_sequences, target_data, test_size=0.1, shuffle=False)\n",
    "X_train, X_val, y_train, y_val = train_test_split(data_sequences, target_data, test_size=0.2, shuffle=False)"
   ]
  },
  {
   "cell_type": "code",
   "execution_count": 15,
   "id": "cd5258da",
   "metadata": {},
   "outputs": [
    {
     "data": {
      "text/plain": [
       "((20419, 365, 1), (2553, 365, 1), (5105, 365, 1))"
      ]
     },
     "execution_count": 15,
     "metadata": {},
     "output_type": "execute_result"
    }
   ],
   "source": [
    "X_train.shape, X_test.shape, X_val.shape"
   ]
  },
  {
   "cell_type": "code",
   "execution_count": 16,
   "id": "cfe091b9",
   "metadata": {},
   "outputs": [
    {
     "name": "stdout",
     "output_type": "stream",
     "text": [
      "Epoch 1/10\n",
      "639/639 [==============================] - 66s 101ms/step - loss: 12.2114 - mae: 2.2901 - val_loss: 3.5731 - val_mae: 1.4725\n",
      "Epoch 2/10\n",
      "639/639 [==============================] - 64s 100ms/step - loss: 3.4307 - mae: 1.4683 - val_loss: 3.0921 - val_mae: 1.3839\n",
      "Epoch 3/10\n",
      "639/639 [==============================] - 63s 98ms/step - loss: 3.2783 - mae: 1.4392 - val_loss: 2.8332 - val_mae: 1.3323\n",
      "Epoch 4/10\n",
      "639/639 [==============================] - 63s 98ms/step - loss: 3.2093 - mae: 1.4262 - val_loss: 2.8739 - val_mae: 1.3424\n",
      "Epoch 5/10\n",
      "639/639 [==============================] - 62s 97ms/step - loss: 3.1675 - mae: 1.4161 - val_loss: 2.7758 - val_mae: 1.3244\n",
      "Epoch 6/10\n",
      "639/639 [==============================] - 63s 98ms/step - loss: 3.1598 - mae: 1.4166 - val_loss: 2.7566 - val_mae: 1.3172\n",
      "Epoch 7/10\n",
      "639/639 [==============================] - 63s 99ms/step - loss: 3.1674 - mae: 1.4169 - val_loss: 2.8258 - val_mae: 1.3335\n",
      "Epoch 8/10\n",
      "639/639 [==============================] - 61s 96ms/step - loss: 3.1421 - mae: 1.4101 - val_loss: 2.7605 - val_mae: 1.3174\n",
      "Epoch 9/10\n",
      "639/639 [==============================] - 62s 97ms/step - loss: 3.1415 - mae: 1.4101 - val_loss: 2.8400 - val_mae: 1.3381\n",
      "Epoch 10/10\n",
      "639/639 [==============================] - 62s 97ms/step - loss: 3.1214 - mae: 1.4065 - val_loss: 2.8093 - val_mae: 1.3258\n"
     ]
    },
    {
     "data": {
      "text/plain": [
       "<keras.src.callbacks.History at 0x1d17d9ce680>"
      ]
     },
     "execution_count": 16,
     "metadata": {},
     "output_type": "execute_result"
    }
   ],
   "source": [
    "model = keras.Sequential()\n",
    "model.add(keras.layers.LSTM(64, input_shape=(sequence_length, 1)))\n",
    "model.add(keras.layers.Dense(1))\n",
    "\n",
    "model.compile(optimizer='adam', loss='mean_squared_error', metrics=['mae'])\n",
    "\n",
    "model.fit(X_train, y_train, epochs=10, batch_size=32, validation_data=(X_val, y_val))"
   ]
  },
  {
   "cell_type": "code",
   "execution_count": 17,
   "id": "a8f1778c",
   "metadata": {},
   "outputs": [
    {
     "name": "stdout",
     "output_type": "stream",
     "text": [
      "160/160 [==============================] - 6s 34ms/step\n",
      "MAE\t: 1.3257989933231553\n",
      "MSE\t: 2.8092917832149076\n",
      "R2\t: 0.9282058622278957\n"
     ]
    }
   ],
   "source": [
    "# validation accuracy\n",
    "pval = model.predict(X_val)\n",
    "\n",
    "print(f\"MAE\\t: {np.mean(np.abs(pval - y_val))}\")\n",
    "\n",
    "print(f\"MSE\\t: {mean_squared_error(y_val, pval)}\")\n",
    "\n",
    "print(f\"R2\\t: {r2_score(y_val, pval)}\")"
   ]
  },
  {
   "cell_type": "code",
   "execution_count": 18,
   "id": "f543a136",
   "metadata": {},
   "outputs": [
    {
     "name": "stdout",
     "output_type": "stream",
     "text": [
      "80/80 [==============================] - 3s 34ms/step\n",
      "MAE\t: 1.3735270066957965\n",
      "MSE\t: 3.0384394111984947\n",
      "R2\t: 0.9291289584425677\n"
     ]
    },
    {
     "data": {
      "text/plain": [
       "<Axes: xlabel='Date/Time'>"
      ]
     },
     "execution_count": 18,
     "metadata": {},
     "output_type": "execute_result"
    },
    {
     "data": {
      "image/png": "[encoded data removed]",
      "text/plain": [
       "<Figure size 640x480 with 1 Axes>"
      ]
     },
     "metadata": {},
     "output_type": "display_data"
    }
   ],
   "source": [
    "# Testing accuracy\n",
    "predictions = model.predict(X_test)\n",
    "\n",
    "print(f\"MAE\\t: {np.mean(np.abs(predictions - y_test))}\")\n",
    "\n",
    "print(f\"MSE\\t: {mean_squared_error(y_test, predictions)}\")\n",
    "\n",
    "print(f\"R2\\t: {r2_score(y_test, predictions)}\")\n",
    "\n",
    "r = pd.DataFrame(index=data['Date/Time'][-len(predictions):], data={'temp': y_test.flatten(), 'predictions': predictions.flatten()})\n",
    "r.plot()"
   ]
  },
  {
   "cell_type": "code",
   "execution_count": null,
   "id": "a194cdac",
   "metadata": {},
   "outputs": [],
   "source": [
    "# Future predictions (1 year)\n",
    "sequence_length = 365\n",
    "target = ['Mean Temp (°C)']\n",
    "\n",
    "last_sequence = data[target].values[-sequence_length:]\n",
    "\n",
    "n_future_steps = 365\n",
    "\n",
    "extended_sequence = last_sequence.copy()\n",
    "\n",
    "for i in range(n_future_steps):\n",
    "    sequence = extended_sequence[-sequence_length:].reshape(1, sequence_length, 1)\n",
    "    \n",
    "    next_prediction = model.predict(sequence)\n",
    "    \n",
    "    extended_sequence = np.append(extended_sequence, next_prediction)\n",
    "\n",
    "predicted_future = extended_sequence[-n_future_steps:]"
   ]
  },
  {
   "cell_type": "code",
   "execution_count": 20,
   "id": "25a15647",
   "metadata": {},
   "outputs": [
    {
     "name": "stderr",
     "output_type": "stream",
     "text": [
      "C:\\Users\\bansa\\AppData\\Local\\Temp\\ipykernel_9784\\4099626314.py:1: FutureWarning: Argument `closed` is deprecated in favor of `inclusive`.\n",
      "  future_timestamps = pd.date_range(start=max(data['Date/Time']), periods=n_future_steps + 1, closed='right')\n"
     ]
    }
   ],
   "source": [
    "future_timestamps = pd.date_range(start=max(data['Date/Time']), periods=n_future_steps + 1, closed='right')"
   ]
  },
  {
   "cell_type": "code",
   "execution_count": 21,
   "id": "c5d5850d",
   "metadata": {},
   "outputs": [
    {
     "data": {
      "text/plain": [
       "<Axes: >"
      ]
     },
     "execution_count": 21,
     "metadata": {},
     "output_type": "execute_result"
    },
    {
     "data": {
      "image/png": "[encoded data removed]",
      "text/plain": [
       "<Figure size 640x480 with 1 Axes>"
      ]
     },
     "metadata": {},
     "output_type": "display_data"
    }
   ],
   "source": [
    "predicted_future_df = pd.DataFrame(index=future_timestamps, data={'predictions': predicted_future})\n",
    "predicted_future_df.plot()"
   ]
  },
  {
   "cell_type": "code",
   "execution_count": 22,
   "id": "22990331",
   "metadata": {},
   "outputs": [
    {
     "data": {
      "text/html": [
       "<div>\n",
       "<style scoped>\n",
       "    .dataframe tbody tr th:only-of-type {\n",
       "        vertical-align: middle;\n",
       "    }\n",
       "\n",
       "    .dataframe tbody tr th {\n",
       "        vertical-align: top;\n",
       "    }\n",
       "\n",
       "    .dataframe thead th {\n",
       "        text-align: right;\n",
       "    }\n",
       "</style>\n",
       "<table border=\"1\" class=\"dataframe\">\n",
       "  <thead>\n",
       "    <tr style=\"text-align: right;\">\n",
       "      <th></th>\n",
       "      <th>Date/Time</th>\n",
       "      <th>Mean Temp (°C)</th>\n",
       "      <th>Station Name</th>\n",
       "    </tr>\n",
       "  </thead>\n",
       "  <tbody>\n",
       "    <tr>\n",
       "      <th>0</th>\n",
       "      <td>2023-11-19</td>\n",
       "      <td>3.939943</td>\n",
       "      <td>COMOX A</td>\n",
       "    </tr>\n",
       "    <tr>\n",
       "      <th>1</th>\n",
       "      <td>2023-11-20</td>\n",
       "      <td>3.784114</td>\n",
       "      <td>COMOX A</td>\n",
       "    </tr>\n",
       "    <tr>\n",
       "      <th>2</th>\n",
       "      <td>2023-11-21</td>\n",
       "      <td>3.659380</td>\n",
       "      <td>COMOX A</td>\n",
       "    </tr>\n",
       "    <tr>\n",
       "      <th>3</th>\n",
       "      <td>2023-11-22</td>\n",
       "      <td>3.532148</td>\n",
       "      <td>COMOX A</td>\n",
       "    </tr>\n",
       "    <tr>\n",
       "      <th>4</th>\n",
       "      <td>2023-11-23</td>\n",
       "      <td>3.415736</td>\n",
       "      <td>COMOX A</td>\n",
       "    </tr>\n",
       "    <tr>\n",
       "      <th>...</th>\n",
       "      <td>...</td>\n",
       "      <td>...</td>\n",
       "      <td>...</td>\n",
       "    </tr>\n",
       "    <tr>\n",
       "      <th>360</th>\n",
       "      <td>2024-11-13</td>\n",
       "      <td>5.323245</td>\n",
       "      <td>COMOX A</td>\n",
       "    </tr>\n",
       "    <tr>\n",
       "      <th>361</th>\n",
       "      <td>2024-11-14</td>\n",
       "      <td>5.326406</td>\n",
       "      <td>COMOX A</td>\n",
       "    </tr>\n",
       "    <tr>\n",
       "      <th>362</th>\n",
       "      <td>2024-11-15</td>\n",
       "      <td>5.329548</td>\n",
       "      <td>COMOX A</td>\n",
       "    </tr>\n",
       "    <tr>\n",
       "      <th>363</th>\n",
       "      <td>2024-11-16</td>\n",
       "      <td>5.332671</td>\n",
       "      <td>COMOX A</td>\n",
       "    </tr>\n",
       "    <tr>\n",
       "      <th>364</th>\n",
       "      <td>2024-11-17</td>\n",
       "      <td>5.335776</td>\n",
       "      <td>COMOX A</td>\n",
       "    </tr>\n",
       "  </tbody>\n",
       "</table>\n",
       "<p>365 rows × 3 columns</p>\n",
       "</div>"
      ],
      "text/plain": [
       "     Date/Time  Mean Temp (°C) Station Name\n",
       "0   2023-11-19        3.939943      COMOX A\n",
       "1   2023-11-20        3.784114      COMOX A\n",
       "2   2023-11-21        3.659380      COMOX A\n",
       "3   2023-11-22        3.532148      COMOX A\n",
       "4   2023-11-23        3.415736      COMOX A\n",
       "..         ...             ...          ...\n",
       "360 2024-11-13        5.323245      COMOX A\n",
       "361 2024-11-14        5.326406      COMOX A\n",
       "362 2024-11-15        5.329548      COMOX A\n",
       "363 2024-11-16        5.332671      COMOX A\n",
       "364 2024-11-17        5.335776      COMOX A\n",
       "\n",
       "[365 rows x 3 columns]"
      ]
     },
     "execution_count": 22,
     "metadata": {},
     "output_type": "execute_result"
    }
   ],
   "source": [
    "z = predicted_future_df.reset_index()\n",
    "z.columns = ['Date/Time', 'Mean Temp (°C)']\n",
    "z['Station Name'] = 'COMOX A'\n",
    "z"
   ]
  },
  {
   "cell_type": "code",
   "execution_count": 24,
   "id": "d9907943",
   "metadata": {},
   "outputs": [
    {
     "data": {
      "text/html": [
       "<div>\n",
       "<style scoped>\n",
       "    .dataframe tbody tr th:only-of-type {\n",
       "        vertical-align: middle;\n",
       "    }\n",
       "\n",
       "    .dataframe tbody tr th {\n",
       "        vertical-align: top;\n",
       "    }\n",
       "\n",
       "    .dataframe thead th {\n",
       "        text-align: right;\n",
       "    }\n",
       "</style>\n",
       "<table border=\"1\" class=\"dataframe\">\n",
       "  <thead>\n",
       "    <tr style=\"text-align: right;\">\n",
       "      <th></th>\n",
       "      <th>Station Name</th>\n",
       "      <th>Date/Time</th>\n",
       "      <th>Max Temp (°C)</th>\n",
       "      <th>Min Temp (°C)</th>\n",
       "      <th>Mean Temp (°C)</th>\n",
       "      <th>Total Rain (mm)</th>\n",
       "      <th>Total Snow (cm)</th>\n",
       "      <th>Total Precip (mm)</th>\n",
       "    </tr>\n",
       "  </thead>\n",
       "  <tbody>\n",
       "    <tr>\n",
       "      <th>25495</th>\n",
       "      <td>COMOX A</td>\n",
       "      <td>1953-01-01</td>\n",
       "      <td>5.6</td>\n",
       "      <td>-1.1</td>\n",
       "      <td>2.3</td>\n",
       "      <td>4.3</td>\n",
       "      <td>0.0</td>\n",
       "      <td>4.3</td>\n",
       "    </tr>\n",
       "    <tr>\n",
       "      <th>25496</th>\n",
       "      <td>COMOX A</td>\n",
       "      <td>1953-01-02</td>\n",
       "      <td>5.6</td>\n",
       "      <td>2.8</td>\n",
       "      <td>4.2</td>\n",
       "      <td>16.5</td>\n",
       "      <td>0.0</td>\n",
       "      <td>16.5</td>\n",
       "    </tr>\n",
       "    <tr>\n",
       "      <th>25497</th>\n",
       "      <td>COMOX A</td>\n",
       "      <td>1953-01-03</td>\n",
       "      <td>8.9</td>\n",
       "      <td>3.9</td>\n",
       "      <td>6.4</td>\n",
       "      <td>0.0</td>\n",
       "      <td>0.0</td>\n",
       "      <td>0.0</td>\n",
       "    </tr>\n",
       "    <tr>\n",
       "      <th>25498</th>\n",
       "      <td>COMOX A</td>\n",
       "      <td>1953-01-04</td>\n",
       "      <td>6.7</td>\n",
       "      <td>3.3</td>\n",
       "      <td>5.0</td>\n",
       "      <td>0.0</td>\n",
       "      <td>0.0</td>\n",
       "      <td>0.0</td>\n",
       "    </tr>\n",
       "    <tr>\n",
       "      <th>25499</th>\n",
       "      <td>COMOX A</td>\n",
       "      <td>1953-01-05</td>\n",
       "      <td>4.4</td>\n",
       "      <td>2.2</td>\n",
       "      <td>3.3</td>\n",
       "      <td>0.0</td>\n",
       "      <td>0.0</td>\n",
       "      <td>0.0</td>\n",
       "    </tr>\n",
       "    <tr>\n",
       "      <th>...</th>\n",
       "      <td>...</td>\n",
       "      <td>...</td>\n",
       "      <td>...</td>\n",
       "      <td>...</td>\n",
       "      <td>...</td>\n",
       "      <td>...</td>\n",
       "      <td>...</td>\n",
       "      <td>...</td>\n",
       "    </tr>\n",
       "    <tr>\n",
       "      <th>317</th>\n",
       "      <td>COMOX A</td>\n",
       "      <td>2023-11-14</td>\n",
       "      <td>8.1</td>\n",
       "      <td>1.0</td>\n",
       "      <td>4.6</td>\n",
       "      <td>0.0</td>\n",
       "      <td>0.0</td>\n",
       "      <td>0.0</td>\n",
       "    </tr>\n",
       "    <tr>\n",
       "      <th>318</th>\n",
       "      <td>COMOX A</td>\n",
       "      <td>2023-11-15</td>\n",
       "      <td>7.6</td>\n",
       "      <td>1.7</td>\n",
       "      <td>4.7</td>\n",
       "      <td>1.8</td>\n",
       "      <td>0.0</td>\n",
       "      <td>1.8</td>\n",
       "    </tr>\n",
       "    <tr>\n",
       "      <th>319</th>\n",
       "      <td>COMOX A</td>\n",
       "      <td>2023-11-16</td>\n",
       "      <td>6.4</td>\n",
       "      <td>-1.2</td>\n",
       "      <td>2.6</td>\n",
       "      <td>0.0</td>\n",
       "      <td>0.0</td>\n",
       "      <td>0.0</td>\n",
       "    </tr>\n",
       "    <tr>\n",
       "      <th>320</th>\n",
       "      <td>COMOX A</td>\n",
       "      <td>2023-11-17</td>\n",
       "      <td>8.2</td>\n",
       "      <td>1.5</td>\n",
       "      <td>4.9</td>\n",
       "      <td>0.0</td>\n",
       "      <td>0.0</td>\n",
       "      <td>0.0</td>\n",
       "    </tr>\n",
       "    <tr>\n",
       "      <th>321</th>\n",
       "      <td>COMOX A</td>\n",
       "      <td>2023-11-18</td>\n",
       "      <td>7.6</td>\n",
       "      <td>1.0</td>\n",
       "      <td>4.3</td>\n",
       "      <td>0.4</td>\n",
       "      <td>0.0</td>\n",
       "      <td>0.4</td>\n",
       "    </tr>\n",
       "  </tbody>\n",
       "</table>\n",
       "<p>25889 rows × 8 columns</p>\n",
       "</div>"
      ],
      "text/plain": [
       "      Station Name  Date/Time  Max Temp (°C)  Min Temp (°C)  Mean Temp (°C)  \\\n",
       "25495      COMOX A 1953-01-01            5.6           -1.1             2.3   \n",
       "25496      COMOX A 1953-01-02            5.6            2.8             4.2   \n",
       "25497      COMOX A 1953-01-03            8.9            3.9             6.4   \n",
       "25498      COMOX A 1953-01-04            6.7            3.3             5.0   \n",
       "25499      COMOX A 1953-01-05            4.4            2.2             3.3   \n",
       "...            ...        ...            ...            ...             ...   \n",
       "317        COMOX A 2023-11-14            8.1            1.0             4.6   \n",
       "318        COMOX A 2023-11-15            7.6            1.7             4.7   \n",
       "319        COMOX A 2023-11-16            6.4           -1.2             2.6   \n",
       "320        COMOX A 2023-11-17            8.2            1.5             4.9   \n",
       "321        COMOX A 2023-11-18            7.6            1.0             4.3   \n",
       "\n",
       "       Total Rain (mm)  Total Snow (cm)  Total Precip (mm)  \n",
       "25495              4.3              0.0                4.3  \n",
       "25496             16.5              0.0               16.5  \n",
       "25497              0.0              0.0                0.0  \n",
       "25498              0.0              0.0                0.0  \n",
       "25499              0.0              0.0                0.0  \n",
       "...                ...              ...                ...  \n",
       "317                0.0              0.0                0.0  \n",
       "318                1.8              0.0                1.8  \n",
       "319                0.0              0.0                0.0  \n",
       "320                0.0              0.0                0.0  \n",
       "321                0.4              0.0                0.4  \n",
       "\n",
       "[25889 rows x 8 columns]"
      ]
     },
     "execution_count": 24,
     "metadata": {},
     "output_type": "execute_result"
    }
   ],
   "source": [
    "data"
   ]
  },
  {
   "cell_type": "code",
   "execution_count": 179,
   "id": "a215158e",
   "metadata": {},
   "outputs": [
    {
     "data": {
      "text/html": [
       "<div>\n",
       "<style scoped>\n",
       "    .dataframe tbody tr th:only-of-type {\n",
       "        vertical-align: middle;\n",
       "    }\n",
       "\n",
       "    .dataframe tbody tr th {\n",
       "        vertical-align: top;\n",
       "    }\n",
       "\n",
       "    .dataframe thead th {\n",
       "        text-align: right;\n",
       "    }\n",
       "</style>\n",
       "<table border=\"1\" class=\"dataframe\">\n",
       "  <thead>\n",
       "    <tr style=\"text-align: right;\">\n",
       "      <th></th>\n",
       "      <th>Station Name</th>\n",
       "      <th>Date/Time</th>\n",
       "      <th>Mean Temp (°C)</th>\n",
       "      <th>Max Temp (°C)</th>\n",
       "      <th>Min Temp (°C)</th>\n",
       "      <th>Total Rain (mm)</th>\n",
       "      <th>Total Snow (cm)</th>\n",
       "    </tr>\n",
       "  </thead>\n",
       "  <tbody>\n",
       "    <tr>\n",
       "      <th>0</th>\n",
       "      <td>COMOX A</td>\n",
       "      <td>2023-11-14</td>\n",
       "      <td>6.142968</td>\n",
       "      <td>9.427223</td>\n",
       "      <td>3.300698</td>\n",
       "      <td>7.197880</td>\n",
       "      <td>0.148358</td>\n",
       "    </tr>\n",
       "    <tr>\n",
       "      <th>1</th>\n",
       "      <td>COMOX A</td>\n",
       "      <td>2023-11-15</td>\n",
       "      <td>6.620000</td>\n",
       "      <td>9.848145</td>\n",
       "      <td>3.928416</td>\n",
       "      <td>7.490841</td>\n",
       "      <td>0.309443</td>\n",
       "    </tr>\n",
       "    <tr>\n",
       "      <th>2</th>\n",
       "      <td>COMOX A</td>\n",
       "      <td>2023-11-16</td>\n",
       "      <td>6.844569</td>\n",
       "      <td>10.045302</td>\n",
       "      <td>4.128850</td>\n",
       "      <td>7.311282</td>\n",
       "      <td>0.500603</td>\n",
       "    </tr>\n",
       "    <tr>\n",
       "      <th>3</th>\n",
       "      <td>COMOX A</td>\n",
       "      <td>2023-11-17</td>\n",
       "      <td>6.939100</td>\n",
       "      <td>10.110209</td>\n",
       "      <td>4.174058</td>\n",
       "      <td>7.123498</td>\n",
       "      <td>0.726946</td>\n",
       "    </tr>\n",
       "    <tr>\n",
       "      <th>4</th>\n",
       "      <td>COMOX A</td>\n",
       "      <td>2023-11-18</td>\n",
       "      <td>6.976707</td>\n",
       "      <td>10.105835</td>\n",
       "      <td>4.167123</td>\n",
       "      <td>6.908137</td>\n",
       "      <td>0.939199</td>\n",
       "    </tr>\n",
       "    <tr>\n",
       "      <th>...</th>\n",
       "      <td>...</td>\n",
       "      <td>...</td>\n",
       "      <td>...</td>\n",
       "      <td>...</td>\n",
       "      <td>...</td>\n",
       "      <td>...</td>\n",
       "      <td>...</td>\n",
       "    </tr>\n",
       "    <tr>\n",
       "      <th>360</th>\n",
       "      <td>COMOX A</td>\n",
       "      <td>2024-11-08</td>\n",
       "      <td>5.510803</td>\n",
       "      <td>14.013565</td>\n",
       "      <td>4.335409</td>\n",
       "      <td>2.700352</td>\n",
       "      <td>4.325090</td>\n",
       "    </tr>\n",
       "    <tr>\n",
       "      <th>361</th>\n",
       "      <td>COMOX A</td>\n",
       "      <td>2024-11-09</td>\n",
       "      <td>5.463128</td>\n",
       "      <td>13.891331</td>\n",
       "      <td>4.284915</td>\n",
       "      <td>2.664041</td>\n",
       "      <td>4.325090</td>\n",
       "    </tr>\n",
       "    <tr>\n",
       "      <th>362</th>\n",
       "      <td>COMOX A</td>\n",
       "      <td>2024-11-10</td>\n",
       "      <td>5.399553</td>\n",
       "      <td>13.773273</td>\n",
       "      <td>4.227387</td>\n",
       "      <td>2.617318</td>\n",
       "      <td>4.325090</td>\n",
       "    </tr>\n",
       "    <tr>\n",
       "      <th>363</th>\n",
       "      <td>COMOX A</td>\n",
       "      <td>2024-11-11</td>\n",
       "      <td>5.323875</td>\n",
       "      <td>13.658855</td>\n",
       "      <td>4.165260</td>\n",
       "      <td>2.583813</td>\n",
       "      <td>4.325090</td>\n",
       "    </tr>\n",
       "    <tr>\n",
       "      <th>364</th>\n",
       "      <td>COMOX A</td>\n",
       "      <td>2024-11-12</td>\n",
       "      <td>5.243690</td>\n",
       "      <td>13.547585</td>\n",
       "      <td>4.101839</td>\n",
       "      <td>2.560419</td>\n",
       "      <td>4.325090</td>\n",
       "    </tr>\n",
       "  </tbody>\n",
       "</table>\n",
       "<p>365 rows × 7 columns</p>\n",
       "</div>"
      ],
      "text/plain": [
       "    Station Name  Date/Time  Mean Temp (°C)  Max Temp (°C)  Min Temp (°C)  \\\n",
       "0        COMOX A 2023-11-14        6.142968       9.427223       3.300698   \n",
       "1        COMOX A 2023-11-15        6.620000       9.848145       3.928416   \n",
       "2        COMOX A 2023-11-16        6.844569      10.045302       4.128850   \n",
       "3        COMOX A 2023-11-17        6.939100      10.110209       4.174058   \n",
       "4        COMOX A 2023-11-18        6.976707      10.105835       4.167123   \n",
       "..           ...        ...             ...            ...            ...   \n",
       "360      COMOX A 2024-11-08        5.510803      14.013565       4.335409   \n",
       "361      COMOX A 2024-11-09        5.463128      13.891331       4.284915   \n",
       "362      COMOX A 2024-11-10        5.399553      13.773273       4.227387   \n",
       "363      COMOX A 2024-11-11        5.323875      13.658855       4.165260   \n",
       "364      COMOX A 2024-11-12        5.243690      13.547585       4.101839   \n",
       "\n",
       "     Total Rain (mm)  Total Snow (cm)  \n",
       "0           7.197880         0.148358  \n",
       "1           7.490841         0.309443  \n",
       "2           7.311282         0.500603  \n",
       "3           7.123498         0.726946  \n",
       "4           6.908137         0.939199  \n",
       "..               ...              ...  \n",
       "360         2.700352         4.325090  \n",
       "361         2.664041         4.325090  \n",
       "362         2.617318         4.325090  \n",
       "363         2.583813         4.325090  \n",
       "364         2.560419         4.325090  \n",
       "\n",
       "[365 rows x 7 columns]"
      ]
     },
     "execution_count": 179,
     "metadata": {},
     "output_type": "execute_result"
    }
   ],
   "source": [
    "zz = pd.merge(zz, z, on=['Station Name','Date/Time'])\n",
    "zz"
   ]
  },
  {
   "cell_type": "code",
   "execution_count": 181,
   "id": "de420e6c",
   "metadata": {},
   "outputs": [
    {
     "data": {
      "text/html": [
       "<div>\n",
       "<style scoped>\n",
       "    .dataframe tbody tr th:only-of-type {\n",
       "        vertical-align: middle;\n",
       "    }\n",
       "\n",
       "    .dataframe tbody tr th {\n",
       "        vertical-align: top;\n",
       "    }\n",
       "\n",
       "    .dataframe thead th {\n",
       "        text-align: right;\n",
       "    }\n",
       "</style>\n",
       "<table border=\"1\" class=\"dataframe\">\n",
       "  <thead>\n",
       "    <tr style=\"text-align: right;\">\n",
       "      <th></th>\n",
       "      <th>Station Name</th>\n",
       "      <th>Date/Time</th>\n",
       "      <th>Max Temp (°C)</th>\n",
       "      <th>Min Temp (°C)</th>\n",
       "      <th>Mean Temp (°C)</th>\n",
       "      <th>Total Rain (mm)</th>\n",
       "      <th>Total Snow (cm)</th>\n",
       "      <th>Total Precip (mm)</th>\n",
       "    </tr>\n",
       "  </thead>\n",
       "  <tbody>\n",
       "    <tr>\n",
       "      <th>0</th>\n",
       "      <td>COMOX A</td>\n",
       "      <td>1953-01-01</td>\n",
       "      <td>5.600000</td>\n",
       "      <td>-1.100000</td>\n",
       "      <td>2.300000</td>\n",
       "      <td>4.300000</td>\n",
       "      <td>0.00000</td>\n",
       "      <td>4.3</td>\n",
       "    </tr>\n",
       "    <tr>\n",
       "      <th>1</th>\n",
       "      <td>COMOX A</td>\n",
       "      <td>1953-01-02</td>\n",
       "      <td>5.600000</td>\n",
       "      <td>2.800000</td>\n",
       "      <td>4.200000</td>\n",
       "      <td>16.500000</td>\n",
       "      <td>0.00000</td>\n",
       "      <td>16.5</td>\n",
       "    </tr>\n",
       "    <tr>\n",
       "      <th>2</th>\n",
       "      <td>COMOX A</td>\n",
       "      <td>1953-01-03</td>\n",
       "      <td>8.900000</td>\n",
       "      <td>3.900000</td>\n",
       "      <td>6.400000</td>\n",
       "      <td>0.000000</td>\n",
       "      <td>0.00000</td>\n",
       "      <td>0.0</td>\n",
       "    </tr>\n",
       "    <tr>\n",
       "      <th>3</th>\n",
       "      <td>COMOX A</td>\n",
       "      <td>1953-01-04</td>\n",
       "      <td>6.700000</td>\n",
       "      <td>3.300000</td>\n",
       "      <td>5.000000</td>\n",
       "      <td>0.000000</td>\n",
       "      <td>0.00000</td>\n",
       "      <td>0.0</td>\n",
       "    </tr>\n",
       "    <tr>\n",
       "      <th>4</th>\n",
       "      <td>COMOX A</td>\n",
       "      <td>1953-01-05</td>\n",
       "      <td>4.400000</td>\n",
       "      <td>2.200000</td>\n",
       "      <td>3.300000</td>\n",
       "      <td>0.000000</td>\n",
       "      <td>0.00000</td>\n",
       "      <td>0.0</td>\n",
       "    </tr>\n",
       "    <tr>\n",
       "      <th>...</th>\n",
       "      <td>...</td>\n",
       "      <td>...</td>\n",
       "      <td>...</td>\n",
       "      <td>...</td>\n",
       "      <td>...</td>\n",
       "      <td>...</td>\n",
       "      <td>...</td>\n",
       "      <td>...</td>\n",
       "    </tr>\n",
       "    <tr>\n",
       "      <th>26244</th>\n",
       "      <td>COMOX A</td>\n",
       "      <td>2024-11-08</td>\n",
       "      <td>14.013565</td>\n",
       "      <td>4.335409</td>\n",
       "      <td>5.510803</td>\n",
       "      <td>2.700352</td>\n",
       "      <td>4.32509</td>\n",
       "      <td>NaN</td>\n",
       "    </tr>\n",
       "    <tr>\n",
       "      <th>26245</th>\n",
       "      <td>COMOX A</td>\n",
       "      <td>2024-11-09</td>\n",
       "      <td>13.891331</td>\n",
       "      <td>4.284915</td>\n",
       "      <td>5.463128</td>\n",
       "      <td>2.664041</td>\n",
       "      <td>4.32509</td>\n",
       "      <td>NaN</td>\n",
       "    </tr>\n",
       "    <tr>\n",
       "      <th>26246</th>\n",
       "      <td>COMOX A</td>\n",
       "      <td>2024-11-10</td>\n",
       "      <td>13.773273</td>\n",
       "      <td>4.227387</td>\n",
       "      <td>5.399553</td>\n",
       "      <td>2.617318</td>\n",
       "      <td>4.32509</td>\n",
       "      <td>NaN</td>\n",
       "    </tr>\n",
       "    <tr>\n",
       "      <th>26247</th>\n",
       "      <td>COMOX A</td>\n",
       "      <td>2024-11-11</td>\n",
       "      <td>13.658855</td>\n",
       "      <td>4.165260</td>\n",
       "      <td>5.323875</td>\n",
       "      <td>2.583813</td>\n",
       "      <td>4.32509</td>\n",
       "      <td>NaN</td>\n",
       "    </tr>\n",
       "    <tr>\n",
       "      <th>26248</th>\n",
       "      <td>COMOX A</td>\n",
       "      <td>2024-11-12</td>\n",
       "      <td>13.547585</td>\n",
       "      <td>4.101839</td>\n",
       "      <td>5.243690</td>\n",
       "      <td>2.560419</td>\n",
       "      <td>4.32509</td>\n",
       "      <td>NaN</td>\n",
       "    </tr>\n",
       "  </tbody>\n",
       "</table>\n",
       "<p>26249 rows × 8 columns</p>\n",
       "</div>"
      ],
      "text/plain": [
       "      Station Name  Date/Time  Max Temp (°C)  Min Temp (°C)  Mean Temp (°C)  \\\n",
       "0          COMOX A 1953-01-01       5.600000      -1.100000        2.300000   \n",
       "1          COMOX A 1953-01-02       5.600000       2.800000        4.200000   \n",
       "2          COMOX A 1953-01-03       8.900000       3.900000        6.400000   \n",
       "3          COMOX A 1953-01-04       6.700000       3.300000        5.000000   \n",
       "4          COMOX A 1953-01-05       4.400000       2.200000        3.300000   \n",
       "...            ...        ...            ...            ...             ...   \n",
       "26244      COMOX A 2024-11-08      14.013565       4.335409        5.510803   \n",
       "26245      COMOX A 2024-11-09      13.891331       4.284915        5.463128   \n",
       "26246      COMOX A 2024-11-10      13.773273       4.227387        5.399553   \n",
       "26247      COMOX A 2024-11-11      13.658855       4.165260        5.323875   \n",
       "26248      COMOX A 2024-11-12      13.547585       4.101839        5.243690   \n",
       "\n",
       "       Total Rain (mm)  Total Snow (cm)  Total Precip (mm)  \n",
       "0             4.300000          0.00000                4.3  \n",
       "1            16.500000          0.00000               16.5  \n",
       "2             0.000000          0.00000                0.0  \n",
       "3             0.000000          0.00000                0.0  \n",
       "4             0.000000          0.00000                0.0  \n",
       "...                ...              ...                ...  \n",
       "26244         2.700352          4.32509                NaN  \n",
       "26245         2.664041          4.32509                NaN  \n",
       "26246         2.617318          4.32509                NaN  \n",
       "26247         2.583813          4.32509                NaN  \n",
       "26248         2.560419          4.32509                NaN  \n",
       "\n",
       "[26249 rows x 8 columns]"
      ]
     },
     "execution_count": 181,
     "metadata": {},
     "output_type": "execute_result"
    }
   ],
   "source": [
    "zzz = pd.concat([data, zz], ignore_index=True)\n",
    "zzz"
   ]
  },
  {
   "cell_type": "code",
   "execution_count": 182,
   "id": "cd6a87a2",
   "metadata": {},
   "outputs": [],
   "source": [
    "zzz.to_csv('comox pred full.csv')"
   ]
  },
  {
   "cell_type": "code",
   "execution_count": null,
   "id": "b7cb6a90",
   "metadata": {},
   "outputs": [],
   "source": []
  },
  {
   "cell_type": "code",
   "execution_count": null,
   "id": "ffedccc0",
   "metadata": {},
   "outputs": [],
   "source": []
  },
  {
   "cell_type": "code",
   "execution_count": 21,
   "id": "59c51430",
   "metadata": {},
   "outputs": [
    {
     "data": {
      "text/plain": [
       "<Axes: xlabel='Date/Time'>"
      ]
     },
     "execution_count": 21,
     "metadata": {},
     "output_type": "execute_result"
    },
    {
     "data": {
      "image/png": "[encoded data removed]",
      "text/plain": [
       "<Figure size 640x480 with 1 Axes>"
      ]
     },
     "metadata": {},
     "output_type": "display_data"
    }
   ],
   "source": [
    "data.set_index(['Date/Time'], drop=True)['Mean Temp (°C)'].plot()"
   ]
  },
  {
   "cell_type": "code",
   "execution_count": null,
   "id": "3b6513cb",
   "metadata": {},
   "outputs": [],
   "source": []
  },
  {
   "cell_type": "code",
   "execution_count": null,
   "id": "08947e79",
   "metadata": {},
   "outputs": [],
   "source": []
  },
  {
   "cell_type": "raw",
   "id": "1ba6ad66",
   "metadata": {},
   "source": [
    "# Specify the target datetime for forecasting\n",
    "target_datetime = pd.Timestamp('2023-11-16 23:00:00')\n",
    "\n",
    "# Create an input sequence for the target datetime\n",
    "target_input_sequence = data[data['datetime'] == target_datetime - seq_length + 1]['temperature'].values\n",
    "\n",
    "# Initialize predictions for the target datetime\n",
    "target_prediction = None\n",
    "\n",
    "# Predict the temperature for the target datetime\n",
    "if target_input_sequence.shape[0] == seq_length:\n",
    "    target_prediction = model.predict(target_input_sequence.reshape(1, seq_length, 1))\n",
    "\n",
    "if target_prediction is not None:\n",
    "    print(f\"Temperature prediction at {target_datetime}: {target_prediction[0][0]:.2f} °C\")\n",
    "else:\n",
    "    print(\"Insufficient data for prediction at the target datetime.\")"
   ]
  }
 ],
 "metadata": {
  "kernelspec": {
   "display_name": "Python 3 (ipykernel)",
   "language": "python",
   "name": "python3"
  },
  "language_info": {
   "codemirror_mode": {
    "name": "ipython",
    "version": 3
   },
   "file_extension": ".py",
   "mimetype": "text/x-python",
   "name": "python",
   "nbconvert_exporter": "python",
   "pygments_lexer": "ipython3",
   "version": "3.10.11"
  }
 },
 "nbformat": 4,
 "nbformat_minor": 5
}
